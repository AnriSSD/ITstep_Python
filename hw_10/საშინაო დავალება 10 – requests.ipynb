{
 "cells": [
  {
   "cell_type": "markdown",
   "id": "0232e343",
   "metadata": {},
   "source": [
    "დაწერეთ პითნის პროგრამა, რომელიც გააგზავნის მოთხოვნას requests-მოდულის გამოყენებით \"https://fakestoreapi.com/products\" მისამართზე, შეამოწმებს \n",
    "სტატუს და გადაიყვანს მიღებულ სიას, პითონის ლისტად და შეასრულეთ შემდეგი მოქმედებები:"
   ]
  },
  {
   "cell_type": "markdown",
   "id": "a33044dc",
   "metadata": {},
   "source": [
    "ა) შექმენით პროდუქტის ფასების სია და გამოიტანეთ როგორც მაქსიმალური ასევე მინიმალური და სასშუალო ფასები"
   ]
  },
  {
   "cell_type": "markdown",
   "id": "8c5c88a7",
   "metadata": {},
   "source": [
    "ბ) შექმენით კატეგორიების სია (დუბლიკაციების გარეშე) და დაასორტირეთ "
   ]
  },
  {
   "cell_type": "markdown",
   "id": "8a5106e6",
   "metadata": {},
   "source": [
    "გ) შექმენით სია რომელშიც გექნებად პროდუქტის აღწერა (title) და id. დაასორტირეთ შედეგი title-ის მიხედვით"
   ]
  },
  {
   "cell_type": "markdown",
   "id": "39595f11",
   "metadata": {},
   "source": [
    "დ) შემქენით რეიტინგების სია რომელიც იქნება დასორტირებული (\"rate\"-ის მიხედვით) ზრდადობით"
   ]
  }
 ],
 "metadata": {
  "kernelspec": {
   "display_name": "Python 3",
   "language": "python",
   "name": "python3"
  },
  "language_info": {
   "codemirror_mode": {
    "name": "ipython",
    "version": 3
   },
   "file_extension": ".py",
   "mimetype": "text/x-python",
   "name": "python",
   "nbconvert_exporter": "python",
   "pygments_lexer": "ipython3",
   "version": "3.8.8"
  }
 },
 "nbformat": 4,
 "nbformat_minor": 5
}
