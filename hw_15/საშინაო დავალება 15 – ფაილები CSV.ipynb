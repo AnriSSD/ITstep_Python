{
 "cells": [
  {
   "cell_type": "markdown",
   "id": "41a90ef0",
   "metadata": {},
   "source": [
    "შექმენით csv  ფაილი რომელშიც გექნებათ შემდეგი სტრუქტურის მონაცემები:\n",
    "\n",
    "```python\n",
    "id,name,age,grade,subject_name,marks\n",
    "1,string,0,string,string,0\n",
    "2,string,0,string,string,0\n",
    "```"
   ]
  },
  {
   "cell_type": "markdown",
   "id": "81059bef",
   "metadata": {},
   "source": [
    "1. დაწერეთ პითონის ფუნქცია , სადაც მომხარებელი შეიყვანს ინფომრაციას `(id,name,age,grade,subject_name,marks)` და თქვენ სტუდენტს დაამატებთ csv ფაილში."
   ]
  },
  {
   "cell_type": "markdown",
   "id": "16b0eef2",
   "metadata": {},
   "source": [
    "2. დაწერეთ პითონის ფუნქცია, რომლის საშულებით მომხარებელს შეეძლება, როგორც ყველა, ასევე კონკრეტული  სტუდენტის ინფომრაციის წაკითხვა ფაილიდან."
   ]
  },
  {
   "cell_type": "markdown",
   "id": "c1abb715",
   "metadata": {},
   "source": [
    "3. დაწერეთ პითონის ფუნქცია, რომლის საშუალებით შესაძლებელი იქნება სტუდენტის ქულის განახლება/ცვლილება. მომხარებელი შეიყვანს სტუდენტის აიდს, საგანს და განახლებულ ქულას."
   ]
  }
 ],
 "metadata": {
  "kernelspec": {
   "display_name": "Python 3",
   "language": "python",
   "name": "python3"
  },
  "language_info": {
   "codemirror_mode": {
    "name": "ipython",
    "version": 3
   },
   "file_extension": ".py",
   "mimetype": "text/x-python",
   "name": "python",
   "nbconvert_exporter": "python",
   "pygments_lexer": "ipython3",
   "version": "3.8.8"
  }
 },
 "nbformat": 4,
 "nbformat_minor": 5
}
