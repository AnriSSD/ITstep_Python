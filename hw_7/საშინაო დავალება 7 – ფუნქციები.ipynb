{
  "cells": [
    {
      "cell_type": "markdown",
      "source": [
        "# საშინაო დავალება 6 (ფუნქციები)"
      ],
      "metadata": {},
      "id": "f0b4fe65"
    },
    {
      "cell_type": "markdown",
      "source": [
        "1. დაწერეთ პითონის ფუნქცია, რომელიც მიიღებს პარამეტრად n, და გამოიტანს ფიბონაჩის n რაოდენობის მიმდევრობას."
      ],
      "metadata": {},
      "id": "7bb21557"
    },
    {
      "cell_type": "markdown",
      "source": [
        "2. დაწერეთ პითონის ფუნქცია, რომელიც მიიღებს პარამეტრად ორ სტრიქონს და შეამოწმებს არის თუ არა სტრიქონები ანაგრამები. (ანაგრამი არის სიტყვა ან შესიტყვება, რომელიც წარმოიქმნება სხვა სიტყვის ან შესიტყვების ასოების გადაადგილებით). მაგ.: `race` და `care` ანაგრამებია."
      ],
      "metadata": {},
      "id": "f337ba4a"
    },
    {
      "cell_type": "markdown",
      "source": [
        "3. დაწერეთ პითონის ფუნქცია რომელიც მიიღებს n რიცხვს და დააბრუნებს მის ფაქტორიალს."
      ],
      "metadata": {},
      "id": "4e14470a"
    },
    {
      "cell_type": "markdown",
      "source": [
        "4. დაწერეთ პითნის ფუნქცია რომელიც მიიღებს  ორ პარამეტრს, პირველს სტრიქონს და მეორეს სიმბოლოს. ფუნქციამ უნდა მოძებნოს სტრიქონში რამდენჯერ მეორდება პარამეტრად მიღებული სიმბოლო და დააბრუნოს  მისი რაოდენობა."
      ],
      "metadata": {},
      "id": "cad35880"
    }
  ],
  "metadata": {
    "kernelspec": {
      "name": "python",
      "language": "python",
      "display_name": "Pyolite (preview)"
    },
    "language_info": {
      "codemirror_mode": {
        "name": "python",
        "version": 3
      },
      "file_extension": ".py",
      "mimetype": "text/x-python",
      "name": "python",
      "nbconvert_exporter": "python",
      "pygments_lexer": "ipython3",
      "version": "3.8"
    },
    "kernel_info": {
      "name": "python"
    },
    "nteract": {
      "version": "nteract-front-end@1.0.0"
    }
  },
  "nbformat": 4,
  "nbformat_minor": 5
}