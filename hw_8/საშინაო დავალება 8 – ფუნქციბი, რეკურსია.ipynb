{
 "cells": [
  {
   "cell_type": "markdown",
   "id": "8b73c882",
   "metadata": {},
   "source": [
    "1. შექმენით გლობალური ცვლადი `int_list = [10,20,30,40]` და დაწერეთ პითონის ფუნქცია, რომელიც  მიიღებს რიცხვს პარამეტრად და გლობალურ `int_list` სიაში ჩაამატებს პარამეტრად მიღებულ რიცხვს."
   ]
  },
  {
   "cell_type": "markdown",
   "id": "45efa6eb",
   "metadata": {},
   "source": [
    "2. დაწერეთ პითნის ფუნქცია რომელიც პარამეტრად იღებს რიცხვების სიას (ლისტს) და აბრუნებს რიცხვების ჯამს. პარამეტრად უნდა მიიღოს შემდეგი სია `[100, 20, 30, 50, 5323, 3321, 22, 56, 700, 90, 10]`."
   ]
  },
  {
   "cell_type": "markdown",
   "id": "d9dc3409",
   "metadata": {},
   "source": [
    "3. შექმენით გლობალური ცვლადი `gl_str = \"Global\"` და დაწერეთ პითონის ფუნქცია რომელიც ქმნის ლოკალურ ცვლადს იგივე სახელით რაც გლობალურ ცვლადს აქვს  `(gl_str)` და აბრუნებს ლოკალური ცვლადის მნიშვნელობას"
   ]
  },
  {
   "cell_type": "markdown",
   "id": "404c5063",
   "metadata": {},
   "source": [
    "4. რეკურსიის გამოყენებით  დაწერეთ პითონის ფუნქცია, რომელიც მიიღებს ერთ პარამეტრს `number` და დააბრუნებს  ციფრების ჯამს (მაგალითად თუ ფუნქციამ მიიღო რიცხვი `12345`, უნდა დააბრუნოს `15`. რადგან `1+2+3+4+5`  უდრის `15`-ს)."
   ]
  },
  {
   "cell_type": "markdown",
   "id": "3fac7100",
   "metadata": {},
   "source": [
    "5. რეკურსიის გამოყენებით დაწერეთ პითონის ფუნქცია, რომელიც მიიღებს პარამეტრად სტრიქონს და დააბრუნებს მის შებრუნებულ (revers) სტრიქონს (მაგალითად  `input: Hello   Output: olleH`)"
   ]
  }
 ],
 "metadata": {
  "kernelspec": {
   "display_name": "Python 3 (ipykernel)",
   "language": "python",
   "name": "python3"
  },
  "language_info": {
   "codemirror_mode": {
    "name": "ipython",
    "version": 3
   },
   "file_extension": ".py",
   "mimetype": "text/x-python",
   "name": "python",
   "nbconvert_exporter": "python",
   "pygments_lexer": "ipython3",
   "version": "3.10.9"
  }
 },
 "nbformat": 4,
 "nbformat_minor": 5
}
