{
 "cells": [
  {
   "cell_type": "markdown",
   "id": "f6b2b73d",
   "metadata": {},
   "source": [
    "# საშინაო დავალება"
   ]
  },
  {
   "cell_type": "markdown",
   "id": "63230f57",
   "metadata": {},
   "source": [
    "1. შექმენით სია num_list [44, 23, 11, 8, 20, 56, 33, 55], in-ის გამოყენებით დაწერეთ პროგრამა რომელიც შეამოწმებს თქვენს მიერ შეტანილი რიცხვი არის თუ არა სიაში.\n",
    "\n",
    "მაგ.:"
   ]
  },
  {
   "cell_type": "markdown",
   "id": "ed567822",
   "metadata": {},
   "source": [
    "```python\n",
    "Enter a number: 56\n",
    "  \n",
    "The number in list\n",
    "```\n",
    "\n",
    "#===========================\n",
    "\n",
    "```python\n",
    "Enter a number: 45\n",
    "  \n",
    "The number not in list\n",
    "```"
   ]
  },
  {
   "cell_type": "markdown",
   "id": "06acb94b",
   "metadata": {},
   "source": [
    "2. დაწერეთ პროგრამა რომელიც შეამოწმებს თქვენს მიერ შეყვანილი რიცხვის ლუწობასა და კენტობას. თუ რიცხვი ლუწია გამოიტანეთ ტექსტი 'even' თუ კენტია 'odd'.\n",
    "\n",
    "მაგ.:\n",
    "\n",
    "```python\n",
    "Enter an integer: 25\n",
    "  \n",
    "The number is odd\n",
    "```\n",
    "\n",
    "#===========================\n",
    "\n",
    "```python\n",
    "Enter an integer: 36\n",
    "  \n",
    "The number is even\n",
    "```"
   ]
  },
  {
   "cell_type": "markdown",
   "id": "3c7935af",
   "metadata": {},
   "source": [
    "3. შექმენით ორი სტრინგის ტიპის ცვლადი `st1` და `st2`, შეადარეთ ისინი `is`-ის გამოყენებით, თუ ემთხვევა გამოიტანეთ ტექსტი \"Same object\", წინააღმდეგ შემთხვევაში \"Different object\""
   ]
  },
  {
   "cell_type": "markdown",
   "id": "a743f80f",
   "metadata": {},
   "source": [
    "4. შექმენით სია `num_list [44, 23, 11, 8, 20, 56, 33, 55]`, შეიტანეთ რიცხვი და დაწერეთ შემდეგი პირობა:\n",
    "\n",
    "* თუ შეტანილი რიცხვი მეტია სიაში არსებულ მე-3 ელემენტზე და ნაკლებია ბოლო ელემენტზე გამოიტანეთ ტექსტი \"More than list elements\";\n",
    "\n",
    "* თუ შეტანილი რიცხვი უდრის სიის მე-6 ელემენტს გამოიტანეთ ტექსტი \"Equal\";\n",
    "\n",
    "* სხვა ნებისმიერ შემთხვევაში გამოიტანეთ ტექსტი \"None of the conditions were met\".\n",
    "\n",
    "რიცხვის შეტანის ოპერაციისთვის გამოიყენეთ input მეთოდი.\n",
    "\n",
    "მაგ.:\n",
    "\n",
    "```python\n",
    "Enter a number: 105\n",
    "\n",
    "None of the conditions were met\n",
    "```\n",
    "\n",
    "#===========================\n",
    "\n",
    "```python\n",
    "Enter a number: 40\n",
    "\n",
    "More than list elements\n",
    "```\n",
    "\n",
    "#===========================\n",
    "\n",
    "```python\n",
    "Enter a number: 56\n",
    "\n",
    "Equal\n",
    "```"
   ]
  }
 ],
 "metadata": {
  "kernelspec": {
   "display_name": "Python 3",
   "language": "python",
   "name": "python3"
  },
  "language_info": {
   "codemirror_mode": {
    "name": "ipython",
    "version": 3
   },
   "file_extension": ".py",
   "mimetype": "text/x-python",
   "name": "python",
   "nbconvert_exporter": "python",
   "pygments_lexer": "ipython3",
   "version": "3.8.8"
  }
 },
 "nbformat": 4,
 "nbformat_minor": 5
}
