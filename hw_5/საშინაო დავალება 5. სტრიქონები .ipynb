{
 "cells": [
  {
   "cell_type": "markdown",
   "id": "a0642e92",
   "metadata": {},
   "source": [
    "# დავალება 4"
   ]
  },
  {
   "cell_type": "markdown",
   "id": "02944db8",
   "metadata": {},
   "source": [
    "1. დაწერეთ პითონის კოდი, რომელიც იღებს სტრიქონს და აბრუნებს სტრიქონის UTF-8 დაშიფრულ ვერსიას."
   ]
  },
  {
   "cell_type": "markdown",
   "id": "269f95d5",
   "metadata": {},
   "source": [
    "2. დაწერეთ პითონის კოდი, რომელიც იღებს სტრიქონს. ჩამოაშორეთ ზედმეტი ინტერვალები. ყველა სიმბოლო გადაიყვანეთ პატარა ასოებში და დაუმატეთ ქვესტრიქონი 'Python'. თუ შეყვანილ სტრიქონში არსებობს სიტყვა \"python\", ჩაანაცვლეთ \"Python\"-ით.\n",
    "\n",
    "  მინიშნება: ზედმეტი ინტერვალების ჩამოსაშორებელი მეთოდია `.strip()`.\n",
    "\n",
    "  მაგ.:\n",
    "\n",
    "  ```python\n",
    "  \"  Python is funny     \".strip()   ====>  \"Python is funny\"\n",
    "  ```"
   ]
  },
  {
   "cell_type": "markdown",
   "id": "ffd5f568",
   "metadata": {},
   "source": [
    "3. დაწერეთ პითონის კოდი, რომელიც იღებს სტრიქონს და აბრუნებს ახალ სტრიქონს, რომელიც შედგება შეყვანილი სტრიქონის პირველი ნახევრისაგან."
   ]
  },
  {
   "cell_type": "markdown",
   "id": "8ea5ae87",
   "metadata": {},
   "source": [
    "4. დაწერეთ პითონის კოდი, რომელიც იღებს სტრიქონს. string მოდულის გამოყენებით დაწერეთ შემოწმება. სტრიქონი ვალიდურია მაშინ, როდესაც ის შეიცავს ერთ ციფრს და არ არის დამატებითი სიმბოლოები ('!', '~', '#', '$' და ა.შ.)"
   ]
  },
  {
   "cell_type": "markdown",
   "id": "e1b5bfb9",
   "metadata": {},
   "source": [
    "5. დაწერეთ პითონის კოდი, რომელიც იღებს სტრიქონს, სტრიქონი გადაყავს ბაიტებში, ბეჭდავს მნიშვნელობას და შემდეგ კი გადაყავს ბაიტებიდან სტრიქონში და ბეჭდავს სტრიქონს."
   ]
  }
 ],
 "metadata": {
  "kernelspec": {
   "display_name": "Python 3",
   "language": "python",
   "name": "python3"
  },
  "language_info": {
   "codemirror_mode": {
    "name": "ipython",
    "version": 3
   },
   "file_extension": ".py",
   "mimetype": "text/x-python",
   "name": "python",
   "nbconvert_exporter": "python",
   "pygments_lexer": "ipython3",
   "version": "3.8.8"
  }
 },
 "nbformat": 4,
 "nbformat_minor": 5
}
