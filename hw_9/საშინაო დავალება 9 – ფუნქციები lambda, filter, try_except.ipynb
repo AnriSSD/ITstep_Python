{
 "cells": [
  {
   "cell_type": "markdown",
   "id": "116b1a32",
   "metadata": {},
   "source": [
    "1. დაწერეთ პითნის ფუნქცია, რომელიც იღებს პარამეტრად ერთი დაიგივე ზომის სიას (list) და zip ფუნქციის გამოყენებით დააჯგუფეთ სიების ელემენტები.\n",
    "\n",
    "```python\n",
    "params: [1, 2, 3], ['a', 'b', 'c']  \n",
    "outputs: [\"(1, 'a')\", \"(2, 'b')\", \"(3, 'c')\"]\n",
    " ```"
   ]
  },
  {
   "cell_type": "markdown",
   "id": "09a4a622",
   "metadata": {},
   "source": [
    "2. დაწერეთ პითონის ფუნქცია, რომელიც პარამეტრად იღებს რიცხვების სიას და აბრუნებს ელემენტების ნამრავლს. ფუნქციაში გაითვალისწინეთ გამონაკლისები (Exceptions), თუ მიიღეთ არასწორი ტიპის პარამეტრს (TypeError).\n",
    "\n",
    "  ფუქნციის დასაწერად გამოიყენეთ lambda და  functools-ის reduce მეთოდი.  \n",
    "\n",
    "```python\n",
    "params:[1, 2, 3, 4, 5] \n",
    "output: 120\n",
    " ```"
   ]
  },
  {
   "cell_type": "markdown",
   "id": "fea34a6d",
   "metadata": {},
   "source": [
    "3. დაწერეთ lambda ფუნქცია რომელიც იღებს მთელი რიცხვების სიას (list) და აბრუნებს მხოლოდ სიის კენტ ელემენტებს.\n",
    "\n",
    "```python\n",
    "params: [1, 2, 3, 4, 5, 6, 7]\n",
    "outputs: [1, 3, 5, 7]\n",
    " ```"
   ]
  },
  {
   "cell_type": "markdown",
   "id": "9d802c6a",
   "metadata": {},
   "source": [
    "4. დაწერეთ პითნის ფუნქცია, რომელიც იღებს ორ პარამეტრს, სტრიქონების სიასა და სტრიქონს (ending). დააბრუნეთ მხოლოდ სიის ის ელემენტები რომელიც მთავრდება, მეორე პარამეტრად მიწოდებული სტრიქონით. გამოიყენეთ lambda და filter ფუნქცია. გაითვალისწინეთ გამონაკლისები (TypeError), თუ სხვა გამონაკლისიც აღმოჩნდა ისიც გაითვალისწინეთ.\n",
    "\n",
    "  __მინიშნება:__ გადაავლეთ თვალი string მეთოდებს, მონახეთ ისეთი მეთოდი, რომელიც აბრუნებს სიტყვას, რომელიც მთავრდება რაღაც სიმბოლოებით...\n",
    "\n",
    "```python\n",
    "params: ['hello', 'world', 'coding', 'nod'], 'ing'  \n",
    "outputs: ['coding']\n",
    " ```"
   ]
  }
 ],
 "metadata": {
  "kernelspec": {
   "display_name": "Python 3",
   "language": "python",
   "name": "python3"
  },
  "language_info": {
   "codemirror_mode": {
    "name": "ipython",
    "version": 3
   },
   "file_extension": ".py",
   "mimetype": "text/x-python",
   "name": "python",
   "nbconvert_exporter": "python",
   "pygments_lexer": "ipython3",
   "version": "3.8.8"
  }
 },
 "nbformat": 4,
 "nbformat_minor": 5
}
