{
 "cells": [
  {
   "cell_type": "markdown",
   "id": "592773ec",
   "metadata": {},
   "source": [
    "მოცემულია რიცხვების სია `[94, 56, 32, 55, 344, 192, 4832, 2, 9, 0, 1]`\n",
    "\n",
    "გამოიყენეთ სორტირების ალორითმები: `bubble sort`, `merge sort` და `insertion sort`.\n",
    "\n",
    "შედეგები დაბეჭდეთ ეკრანზე."
   ]
  }
 ],
 "metadata": {
  "kernelspec": {
   "display_name": "Python 3",
   "language": "python",
   "name": "python3"
  },
  "language_info": {
   "codemirror_mode": {
    "name": "ipython",
    "version": 3
   },
   "file_extension": ".py",
   "mimetype": "text/x-python",
   "name": "python",
   "nbconvert_exporter": "python",
   "pygments_lexer": "ipython3",
   "version": "3.8.8"
  }
 },
 "nbformat": 4,
 "nbformat_minor": 5
}
