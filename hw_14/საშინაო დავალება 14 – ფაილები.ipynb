{
 "cells": [
  {
   "cell_type": "markdown",
   "id": "1bfb54c4",
   "metadata": {},
   "source": [
    "```python\n",
    "chess_players = [\n",
    "  {'id': 19, 'name': 'Jobava', 'country': 'Georgia', 'rating': 2588, 'age': 41},\n",
    "  {'id': 28, 'name': 'Caruana', 'country': 'USA', 'rating': 2781, 'age': 32},\n",
    "  {'id': 35, 'name': 'Giri', 'country': 'Netherlands', 'rating': 2771, 'age': 30},\n",
    "  {'id': 84, 'name': 'Carlsen', 'country': 'Norway', 'rating': 2864, 'age': 34},\n",
    "  {'id': 118, 'name': 'Ding', 'country': 'China', 'rating': 2799, 'age': 32},\n",
    "  {'id': 139, 'name': 'Karjakin', 'country': 'Russia', 'rating': 2747, 'age': 35},\n",
    "  {'id': 258, 'name': 'Duda', 'country': 'Poland', 'rating': 2731, 'age': 31},\n",
    "  {'id': 301, 'name': 'Vachier-Lagrave', 'country': 'France', 'rating': 2737, 'age': 34},\n",
    "  {'id': 403, 'name': 'Nakamura', 'country': 'USA', 'rating': 2768, 'age': 36},\n",
    "]\n",
    "```"
   ]
  },
  {
   "cell_type": "markdown",
   "id": "a3c377ca",
   "metadata": {},
   "source": [
    "1. დაწერეთ პითონის ფუნქცია რომელიც კონტექსტის მენეჯერის გამოყენებით პარამეტრად მიიღებს ფაილის მისამართს, სახელს და შემქნის მას."
   ]
  },
  {
   "cell_type": "markdown",
   "id": "e739a9b1",
   "metadata": {},
   "source": [
    "2. დაწერეთ პითონის ფუნქცია რომელიც წაიკითხავს პარამეტრად მიღებული ფაილის კონტენტს"
   ]
  },
  {
   "cell_type": "markdown",
   "id": "8fc73cf2",
   "metadata": {},
   "source": [
    "3. დაწერეთ პითონის ფუნქცია, რომელიც გაანახლებს ფაილში არსებულ კონტენტს"
   ]
  },
  {
   "cell_type": "markdown",
   "id": "cfc9f943",
   "metadata": {},
   "source": [
    "4. დაწერეთ პითონის ფუნქცია რომელიც პარამეტრად მიიღებს ლექსიკონს (dict) და ჩაწერს/გაანახლებს ფაილის კონტენტს\n",
    "\n",
    "```python\n",
    "[\n",
    "  {'id': 568, 'name': 'Kasparov', 'country': 'Russia', 'rating': 2705, 'age': 56},\n",
    "  {'id': 189, 'name': 'Karpov', 'country': 'Russia', 'rating': 2698, 'age': 59},\n",
    "]\n",
    "```\n",
    "\n",
    "ბოლოში უნდა ჩაემატოს მხოლოდ ორი ლექსიკონი და არა სია"
   ]
  }
 ],
 "metadata": {
  "kernelspec": {
   "display_name": "Python 3",
   "language": "python",
   "name": "python3"
  },
  "language_info": {
   "codemirror_mode": {
    "name": "ipython",
    "version": 3
   },
   "file_extension": ".py",
   "mimetype": "text/x-python",
   "name": "python",
   "nbconvert_exporter": "python",
   "pygments_lexer": "ipython3",
   "version": "3.8.8"
  }
 },
 "nbformat": 4,
 "nbformat_minor": 5
}
